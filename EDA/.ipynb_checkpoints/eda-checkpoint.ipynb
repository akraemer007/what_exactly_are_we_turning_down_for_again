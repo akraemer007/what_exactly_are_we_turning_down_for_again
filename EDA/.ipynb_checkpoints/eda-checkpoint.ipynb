{
 "cells": [
  {
   "cell_type": "code",
   "execution_count": 1,
   "metadata": {
    "collapsed": true
   },
   "outputs": [],
   "source": [
    "import pandas as pd\n",
    "import numpy as np\n",
    "import matplotlib.pyplot as plt\n",
    "from jupyterthemes import jtplot\n",
    "import seaborn as sns\n",
    "\n",
    "%matplotlib inline\n"
   ]
  },
  {
   "cell_type": "code",
   "execution_count": 2,
   "metadata": {
    "collapsed": true
   },
   "outputs": [],
   "source": [
    "jtplot.style(theme='monokai')"
   ]
  },
  {
   "cell_type": "markdown",
   "metadata": {},
   "source": [
    "# Import data\n",
    "Remember! I'm only using the working lyrics on day one as I am still importing lyric data"
   ]
  },
  {
   "cell_type": "code",
   "execution_count": 3,
   "metadata": {},
   "outputs": [
    {
     "name": "stderr",
     "output_type": "stream",
     "text": [
      "/Users/AndrewKraemer/anaconda3/lib/python3.6/site-packages/IPython/core/interactiveshell.py:2698: DtypeWarning: Columns (18,19,20,21,22,23,24,25,26,27,28,29) have mixed types. Specify dtype option on import or set low_memory=False.\n",
      "  interactivity=interactivity, compiler=compiler, result=result)\n"
     ]
    }
   ],
   "source": [
    "chart_df = pd.read_csv('../data/all_charts.csv')\n",
    "lyrics_df = pd.read_csv('../data/lyrics_second_pass.csv')\n",
    "spotify_df = pd.read_csv('../data/spotify_data.csv')"
   ]
  },
  {
   "cell_type": "code",
   "execution_count": 4,
   "metadata": {},
   "outputs": [
    {
     "data": {
      "text/html": [
       "<div>\n",
       "<style>\n",
       "    .dataframe thead tr:only-child th {\n",
       "        text-align: right;\n",
       "    }\n",
       "\n",
       "    .dataframe thead th {\n",
       "        text-align: left;\n",
       "    }\n",
       "\n",
       "    .dataframe tbody tr th {\n",
       "        vertical-align: top;\n",
       "    }\n",
       "</style>\n",
       "<table border=\"1\" class=\"dataframe\">\n",
       "  <thead>\n",
       "    <tr style=\"text-align: right;\">\n",
       "      <th></th>\n",
       "      <th>Unnamed: 0</th>\n",
       "      <th>chartDate</th>\n",
       "      <th>title</th>\n",
       "      <th>artist</th>\n",
       "      <th>peakPos</th>\n",
       "      <th>lastPos</th>\n",
       "      <th>weeks</th>\n",
       "      <th>rank</th>\n",
       "      <th>change</th>\n",
       "      <th>spotifyID</th>\n",
       "      <th>...</th>\n",
       "      <th>art_6</th>\n",
       "      <th>art_7</th>\n",
       "      <th>art_8</th>\n",
       "      <th>art_9</th>\n",
       "      <th>art_10</th>\n",
       "      <th>art_11</th>\n",
       "      <th>art_12</th>\n",
       "      <th>art_13</th>\n",
       "      <th>art_14</th>\n",
       "      <th>art_15</th>\n",
       "    </tr>\n",
       "  </thead>\n",
       "  <tbody>\n",
       "    <tr>\n",
       "      <th>0</th>\n",
       "      <td>0</td>\n",
       "      <td>1958-08-16</td>\n",
       "      <td>Poor Little Fool</td>\n",
       "      <td>Ricky Nelson</td>\n",
       "      <td>1</td>\n",
       "      <td>1</td>\n",
       "      <td>11</td>\n",
       "      <td>1</td>\n",
       "      <td>0</td>\n",
       "      <td>33FPsMEl3UwpytDuyf9VYq</td>\n",
       "      <td>...</td>\n",
       "      <td>NaN</td>\n",
       "      <td>NaN</td>\n",
       "      <td>NaN</td>\n",
       "      <td>NaN</td>\n",
       "      <td>NaN</td>\n",
       "      <td>NaN</td>\n",
       "      <td>NaN</td>\n",
       "      <td>NaN</td>\n",
       "      <td>NaN</td>\n",
       "      <td>NaN</td>\n",
       "    </tr>\n",
       "    <tr>\n",
       "      <th>1</th>\n",
       "      <td>1</td>\n",
       "      <td>1958-08-16</td>\n",
       "      <td>Nel Blu Dipinto Di Blu (VolarÃÂ©)</td>\n",
       "      <td>Domenico Modugno</td>\n",
       "      <td>1</td>\n",
       "      <td>54</td>\n",
       "      <td>16</td>\n",
       "      <td>2</td>\n",
       "      <td>+52</td>\n",
       "      <td>NaN</td>\n",
       "      <td>...</td>\n",
       "      <td>NaN</td>\n",
       "      <td>NaN</td>\n",
       "      <td>NaN</td>\n",
       "      <td>NaN</td>\n",
       "      <td>NaN</td>\n",
       "      <td>NaN</td>\n",
       "      <td>NaN</td>\n",
       "      <td>NaN</td>\n",
       "      <td>NaN</td>\n",
       "      <td>NaN</td>\n",
       "    </tr>\n",
       "  </tbody>\n",
       "</table>\n",
       "<p>2 rows × 30 columns</p>\n",
       "</div>"
      ],
      "text/plain": [
       "   Unnamed: 0   chartDate                               title  \\\n",
       "0           0  1958-08-16                    Poor Little Fool   \n",
       "1           1  1958-08-16  Nel Blu Dipinto Di Blu (VolarÃÂ©)   \n",
       "\n",
       "             artist  peakPos  lastPos  weeks  rank change  \\\n",
       "0      Ricky Nelson        1        1     11     1      0   \n",
       "1  Domenico Modugno        1       54     16     2    +52   \n",
       "\n",
       "                spotifyID  ...   art_6 art_7 art_8 art_9 art_10 art_11 art_12  \\\n",
       "0  33FPsMEl3UwpytDuyf9VYq  ...     NaN   NaN   NaN   NaN    NaN    NaN    NaN   \n",
       "1                     NaN  ...     NaN   NaN   NaN   NaN    NaN    NaN    NaN   \n",
       "\n",
       "  art_13 art_14 art_15  \n",
       "0    NaN    NaN    NaN  \n",
       "1    NaN    NaN    NaN  \n",
       "\n",
       "[2 rows x 30 columns]"
      ]
     },
     "execution_count": 4,
     "metadata": {},
     "output_type": "execute_result"
    }
   ],
   "source": [
    "chart_df.head(2)"
   ]
  },
  {
   "cell_type": "code",
   "execution_count": 5,
   "metadata": {},
   "outputs": [
    {
     "data": {
      "text/html": [
       "<div>\n",
       "<style>\n",
       "    .dataframe thead tr:only-child th {\n",
       "        text-align: right;\n",
       "    }\n",
       "\n",
       "    .dataframe thead th {\n",
       "        text-align: left;\n",
       "    }\n",
       "\n",
       "    .dataframe tbody tr th {\n",
       "        vertical-align: top;\n",
       "    }\n",
       "</style>\n",
       "<table border=\"1\" class=\"dataframe\">\n",
       "  <thead>\n",
       "    <tr style=\"text-align: right;\">\n",
       "      <th></th>\n",
       "      <th>Song</th>\n",
       "      <th>Artist</th>\n",
       "      <th>spotifyID</th>\n",
       "      <th>Lyrics</th>\n",
       "      <th>Source</th>\n",
       "    </tr>\n",
       "  </thead>\n",
       "  <tbody>\n",
       "    <tr>\n",
       "      <th>0</th>\n",
       "      <td>poor little fool</td>\n",
       "      <td>ricky nelson</td>\n",
       "      <td>33FPsMEl3UwpytDuyf9VYq</td>\n",
       "      <td>i used to play around with hearts that hastene...</td>\n",
       "      <td>1.0</td>\n",
       "    </tr>\n",
       "    <tr>\n",
       "      <th>1</th>\n",
       "      <td>nel blu dipinto di blu volar~a^a</td>\n",
       "      <td>domenico modugno</td>\n",
       "      <td>NaN</td>\n",
       "      <td>not set yet</td>\n",
       "      <td>NaN</td>\n",
       "    </tr>\n",
       "  </tbody>\n",
       "</table>\n",
       "</div>"
      ],
      "text/plain": [
       "                               Song            Artist               spotifyID  \\\n",
       "0                  poor little fool      ricky nelson  33FPsMEl3UwpytDuyf9VYq   \n",
       "1  nel blu dipinto di blu volar~a^a  domenico modugno                     NaN   \n",
       "\n",
       "                                              Lyrics  Source  \n",
       "0  i used to play around with hearts that hastene...     1.0  \n",
       "1                                        not set yet     NaN  "
      ]
     },
     "execution_count": 5,
     "metadata": {},
     "output_type": "execute_result"
    }
   ],
   "source": [
    "lyrics_df.head(2)"
   ]
  },
  {
   "cell_type": "code",
   "execution_count": 6,
   "metadata": {},
   "outputs": [
    {
     "data": {
      "text/html": [
       "<div>\n",
       "<style>\n",
       "    .dataframe thead tr:only-child th {\n",
       "        text-align: right;\n",
       "    }\n",
       "\n",
       "    .dataframe thead th {\n",
       "        text-align: left;\n",
       "    }\n",
       "\n",
       "    .dataframe tbody tr th {\n",
       "        vertical-align: top;\n",
       "    }\n",
       "</style>\n",
       "<table border=\"1\" class=\"dataframe\">\n",
       "  <thead>\n",
       "    <tr style=\"text-align: right;\">\n",
       "      <th></th>\n",
       "      <th>danceability</th>\n",
       "      <th>energy</th>\n",
       "      <th>key</th>\n",
       "      <th>loudness</th>\n",
       "      <th>mode</th>\n",
       "      <th>speechiness</th>\n",
       "      <th>acousticness</th>\n",
       "      <th>instrumentalness</th>\n",
       "      <th>liveness</th>\n",
       "      <th>valence</th>\n",
       "      <th>tempo</th>\n",
       "      <th>track_uri</th>\n",
       "      <th>duration_ms</th>\n",
       "      <th>time_signature</th>\n",
       "      <th>key_mode</th>\n",
       "    </tr>\n",
       "  </thead>\n",
       "  <tbody>\n",
       "    <tr>\n",
       "      <th>0</th>\n",
       "      <td>0.549</td>\n",
       "      <td>0.336</td>\n",
       "      <td>C</td>\n",
       "      <td>-11.669</td>\n",
       "      <td>major</td>\n",
       "      <td>0.0290</td>\n",
       "      <td>0.6520</td>\n",
       "      <td>0.000</td>\n",
       "      <td>0.134</td>\n",
       "      <td>0.802</td>\n",
       "      <td>154.958</td>\n",
       "      <td>33FPsMEl3UwpytDuyf9VYq</td>\n",
       "      <td>153933.0</td>\n",
       "      <td>4</td>\n",
       "      <td>C major</td>\n",
       "    </tr>\n",
       "    <tr>\n",
       "      <th>1</th>\n",
       "      <td>0.696</td>\n",
       "      <td>0.743</td>\n",
       "      <td>C#</td>\n",
       "      <td>-6.623</td>\n",
       "      <td>major</td>\n",
       "      <td>0.0439</td>\n",
       "      <td>0.0836</td>\n",
       "      <td>0.197</td>\n",
       "      <td>0.119</td>\n",
       "      <td>0.776</td>\n",
       "      <td>137.276</td>\n",
       "      <td>0nG4SbrAONIFLIwQqegooj</td>\n",
       "      <td>138747.0</td>\n",
       "      <td>4</td>\n",
       "      <td>C# major</td>\n",
       "    </tr>\n",
       "  </tbody>\n",
       "</table>\n",
       "</div>"
      ],
      "text/plain": [
       "   danceability  energy key  loudness   mode  speechiness  acousticness  \\\n",
       "0         0.549   0.336   C   -11.669  major       0.0290        0.6520   \n",
       "1         0.696   0.743  C#    -6.623  major       0.0439        0.0836   \n",
       "\n",
       "   instrumentalness  liveness  valence    tempo               track_uri  \\\n",
       "0             0.000     0.134    0.802  154.958  33FPsMEl3UwpytDuyf9VYq   \n",
       "1             0.197     0.119    0.776  137.276  0nG4SbrAONIFLIwQqegooj   \n",
       "\n",
       "   duration_ms  time_signature  key_mode  \n",
       "0     153933.0               4   C major  \n",
       "1     138747.0               4  C# major  "
      ]
     },
     "execution_count": 6,
     "metadata": {},
     "output_type": "execute_result"
    }
   ],
   "source": [
    "spotify_df.head(2)"
   ]
  },
  {
   "cell_type": "code",
   "execution_count": null,
   "metadata": {},
   "outputs": [],
   "source": []
  },
  {
   "cell_type": "code",
   "execution_count": 7,
   "metadata": {
    "collapsed": true
   },
   "outputs": [],
   "source": [
    "# keep relevant columns\n",
    "# chart_df.columns.tolist()\n",
    "\n",
    "chart_cols = ['chartDate', 'title', 'artist', 'peakPos', 'lastPos', 'weeks', 'rank', 'change','spotifyID']\n",
    "chart_df = chart_df[chart_cols]"
   ]
  },
  {
   "cell_type": "code",
   "execution_count": 8,
   "metadata": {
    "collapsed": true
   },
   "outputs": [],
   "source": [
    "# combine chart_df with spotify data\n",
    "df = pd.merge(chart_df, spotify_df, left_on='spotifyID', right_on = 'track_uri', how='inner')"
   ]
  },
  {
   "cell_type": "code",
   "execution_count": 9,
   "metadata": {},
   "outputs": [],
   "source": [
    "df = df.drop_duplicates()"
   ]
  },
  {
   "cell_type": "code",
   "execution_count": 10,
   "metadata": {},
   "outputs": [],
   "source": [
    "# break out major minor key\n",
    "df['maj_minor'] = df['key_mode'].str.split(' ', 1).str[1]"
   ]
  },
  {
   "cell_type": "code",
   "execution_count": 11,
   "metadata": {},
   "outputs": [
    {
     "name": "stdout",
     "output_type": "stream",
     "text": [
      "chart_songs: 304643 \n",
      "spotify_songs: 258820 \n",
      "percent_overlap: 84.96%\n"
     ]
    }
   ],
   "source": [
    "chart_len = chart_df.shape[0]\n",
    "spot_len = df.shape[0]\n",
    "print('chart_songs: ' + str(chart_len), \n",
    "     '\\nspotify_songs: ' + str(spot_len),\n",
    "     '\\npercent_overlap: ' + str(round((spot_len / chart_len)*100, 2)) + '%')"
   ]
  },
  {
   "cell_type": "code",
   "execution_count": 12,
   "metadata": {},
   "outputs": [],
   "source": [
    "# combine df with lyric data\n",
    "# todo deal with ~ 100 dups\n",
    "# df = pd.merge(df, lyrics_df, on='spotifyID', how='left')"
   ]
  },
  {
   "cell_type": "code",
   "execution_count": 13,
   "metadata": {},
   "outputs": [],
   "source": [
    "# convert to datetime\n",
    "df['chartDate'] = pd.to_datetime(df[('chartDate')])"
   ]
  },
  {
   "cell_type": "code",
   "execution_count": 14,
   "metadata": {},
   "outputs": [],
   "source": [
    "df['year'] = df['chartDate'].dt.year"
   ]
  },
  {
   "cell_type": "code",
   "execution_count": 15,
   "metadata": {
    "collapsed": true
   },
   "outputs": [],
   "source": [
    "df['month'] = df['chartDate'].dt.month"
   ]
  },
  {
   "cell_type": "code",
   "execution_count": 16,
   "metadata": {},
   "outputs": [
    {
     "data": {
      "text/html": [
       "<div>\n",
       "<style>\n",
       "    .dataframe thead tr:only-child th {\n",
       "        text-align: right;\n",
       "    }\n",
       "\n",
       "    .dataframe thead th {\n",
       "        text-align: left;\n",
       "    }\n",
       "\n",
       "    .dataframe tbody tr th {\n",
       "        vertical-align: top;\n",
       "    }\n",
       "</style>\n",
       "<table border=\"1\" class=\"dataframe\">\n",
       "  <thead>\n",
       "    <tr style=\"text-align: right;\">\n",
       "      <th></th>\n",
       "      <th>valence</th>\n",
       "      <th>energy</th>\n",
       "    </tr>\n",
       "  </thead>\n",
       "  <tbody>\n",
       "    <tr>\n",
       "      <th>0</th>\n",
       "      <td>0.802</td>\n",
       "      <td>0.336</td>\n",
       "    </tr>\n",
       "    <tr>\n",
       "      <th>2</th>\n",
       "      <td>0.802</td>\n",
       "      <td>0.336</td>\n",
       "    </tr>\n",
       "    <tr>\n",
       "      <th>4</th>\n",
       "      <td>0.802</td>\n",
       "      <td>0.336</td>\n",
       "    </tr>\n",
       "    <tr>\n",
       "      <th>6</th>\n",
       "      <td>0.802</td>\n",
       "      <td>0.336</td>\n",
       "    </tr>\n",
       "    <tr>\n",
       "      <th>8</th>\n",
       "      <td>0.802</td>\n",
       "      <td>0.336</td>\n",
       "    </tr>\n",
       "  </tbody>\n",
       "</table>\n",
       "</div>"
      ],
      "text/plain": [
       "   valence  energy\n",
       "0    0.802   0.336\n",
       "2    0.802   0.336\n",
       "4    0.802   0.336\n",
       "6    0.802   0.336\n",
       "8    0.802   0.336"
      ]
     },
     "execution_count": 16,
     "metadata": {},
     "output_type": "execute_result"
    }
   ],
   "source": [
    "df[['valence', 'energy']].head(5)"
   ]
  },
  {
   "cell_type": "markdown",
   "metadata": {},
   "source": [
    "Check matchups"
   ]
  },
  {
   "cell_type": "code",
   "execution_count": 17,
   "metadata": {},
   "outputs": [
    {
     "data": {
      "text/plain": [
       "<function matplotlib.pyplot.show>"
      ]
     },
     "execution_count": 17,
     "metadata": {},
     "output_type": "execute_result"
    },
    {
     "data": {
      "image/png": "[encoded data removed]",
      "text/plain": [
       "<matplotlib.figure.Figure at 0x1a278462e8>"
      ]
     },
     "metadata": {},
     "output_type": "display_data"
    }
   ],
   "source": [
    "by_year_df = df.groupby('year')['valence','liveness'].mean().reset_index()\n",
    "\n",
    "# sns.barplot(x = 'year', y = 'valence', data = df)\n",
    "\n",
    "plt.plot(by_year_df['year'], by_year_df['valence'])\n",
    "plt.suptitle('Song Happiness Overtime by Year', fontsize = 17)\n",
    "plt.title('Using Spotify Valence', fontsize = 11)\n",
    "plt.xlabel('Year')\n",
    "plt.ylabel('Happiness')\n",
    "plt.ylim(0, 1)\n",
    "plt.show"
   ]
  },
  {
   "cell_type": "code",
   "execution_count": 18,
   "metadata": {},
   "outputs": [
    {
     "data": {
      "text/plain": [
       "<function matplotlib.pyplot.show>"
      ]
     },
     "execution_count": 18,
     "metadata": {},
     "output_type": "execute_result"
    },
    {
     "data": {
      "image/png": "[encoded data removed]",
      "text/plain": [
       "<matplotlib.figure.Figure at 0x1a27828cc0>"
      ]
     },
     "metadata": {},
     "output_type": "display_data"
    }
   ],
   "source": [
    "by_month_df = df.groupby('month')['valence','liveness'].mean().reset_index()\n",
    "\n",
    "plt.plot(by_month_df['month'], by_month_df['valence'])\n",
    "plt.suptitle('Song Happiness Overtime by Month', fontsize = 17)\n",
    "plt.title('Using Spotify Valence', fontsize = 11)\n",
    "plt.xlabel('Month')\n",
    "plt.ylabel('Happiness')\n",
    "plt.ylim(0, 1)\n",
    "plt.show"
   ]
  },
  {
   "cell_type": "markdown",
   "metadata": {},
   "source": [
    "# Explore text "
   ]
  },
  {
   "cell_type": "code",
   "execution_count": 19,
   "metadata": {},
   "outputs": [],
   "source": [
    "lyrics_df = lyrics_df[lyrics_df['Source'].notnull()]"
   ]
  },
  {
   "cell_type": "code",
   "execution_count": 20,
   "metadata": {},
   "outputs": [
    {
     "name": "stdout",
     "output_type": "stream",
     "text": [
      "<class 'pandas.core.frame.DataFrame'>\n",
      "Int64Index: 23774 entries, 0 to 34419\n",
      "Data columns (total 5 columns):\n",
      "Song         23774 non-null object\n",
      "Artist       23774 non-null object\n",
      "spotifyID    20233 non-null object\n",
      "Lyrics       23774 non-null object\n",
      "Source       23774 non-null float64\n",
      "dtypes: float64(1), object(4)\n",
      "memory usage: 1.1+ MB\n"
     ]
    }
   ],
   "source": [
    "lyrics_df.info()"
   ]
  },
  {
   "cell_type": "code",
   "execution_count": 21,
   "metadata": {},
   "outputs": [],
   "source": [
    "# from spacy.tokenizer import Tokenizer\n",
    "# tokenizer = Tokenizer(nlp.vocab)"
   ]
  },
  {
   "cell_type": "code",
   "execution_count": null,
   "metadata": {},
   "outputs": [],
   "source": [
    "from sklearn.feature_extraction.text import CountVectorizer\n",
    "cv = CountVectorizer(stop_words='english', max_features=5000)\n",
    "vectorized = cv.fit_transform(lyrics_df['Lyrics'])\n",
    "words = cv.get_feature_names()"
   ]
  },
  {
   "cell_type": "code",
   "execution_count": null,
   "metadata": {},
   "outputs": [],
   "source": [
    "word_counts = pd.DataFrame.from_dict({word: vectorized.getcol(idx).sum() for word, idx in cv.vocabulary_.items()}, orient='index').reset_index()"
   ]
  },
  {
   "cell_type": "code",
   "execution_count": null,
   "metadata": {},
   "outputs": [],
   "source": [
    "word_counts.columns = ['word', 'count']"
   ]
  },
  {
   "cell_type": "code",
   "execution_count": null,
   "metadata": {},
   "outputs": [],
   "source": [
    "top_words = word_counts.sort_values('count', ascending = False).head(20)\n",
    "top_words"
   ]
  },
  {
   "cell_type": "code",
   "execution_count": null,
   "metadata": {},
   "outputs": [],
   "source": [
    "word_counts.sort_values('count', ascending = False).tail()"
   ]
  },
  {
   "cell_type": "code",
   "execution_count": null,
   "metadata": {},
   "outputs": [],
   "source": [
    "sns.barplot(x = 'word', \n",
    "            y = 'count', data = top_words )\n",
    "plt.xticks(rotation=40, ha = 'right')"
   ]
  },
  {
   "cell_type": "code",
   "execution_count": null,
   "metadata": {
    "collapsed": true
   },
   "outputs": [],
   "source": [
    "# import spacy \n",
    "# nlp = spacy.load(“en”)\n",
    "# https://www.analyticsvidhya.com/blog/2017/04/natural-language-processing-made-easy-using-spacy-%E2%80%8Bin-python/"
   ]
  },
  {
   "cell_type": "code",
   "execution_count": null,
   "metadata": {
    "collapsed": true
   },
   "outputs": [],
   "source": [
    "from textblob import TextBlob"
   ]
  },
  {
   "cell_type": "code",
   "execution_count": null,
   "metadata": {},
   "outputs": [],
   "source": [
    "lyrics_df['tb_obj'] = lyrics_df['Lyrics'].apply(lambda lyric: TextBlob(lyric)) # takes a bit to run"
   ]
  },
  {
   "cell_type": "code",
   "execution_count": null,
   "metadata": {
    "collapsed": true
   },
   "outputs": [],
   "source": [
    "lyrics_df['polarity'] = lyrics_df['tb_obj'].apply(lambda tb_obj: tb_obj.sentiment.polarity)\n",
    "lyrics_df['polarity'] = lyrics_df['polarity'].apply(lambda x: (x + 1) / 2) # convert to 0 - 1 scale\n",
    "# lyrics_df['subjectivity'] = lyrics_df['tb_obj'].apply(lambda tb_obj: tb_obj.sentiment.subjectivity)"
   ]
  },
  {
   "cell_type": "code",
   "execution_count": null,
   "metadata": {},
   "outputs": [],
   "source": [
    "lyrics_df.head()"
   ]
  },
  {
   "cell_type": "code",
   "execution_count": null,
   "metadata": {},
   "outputs": [],
   "source": [
    "df_w_l = pd.merge(df, lyrics_df, on = 'spotifyID', how = 'inner')"
   ]
  },
  {
   "cell_type": "code",
   "execution_count": null,
   "metadata": {
    "collapsed": true
   },
   "outputs": [],
   "source": [
    "from sklearn.metrics.pairwise import euclidean_distances\n",
    "\n",
    "# create spotify coordinate\n",
    "coord = df_w_l['coord'] =[[df_w_l['valence'].iloc[i], df_w_l['energy'].iloc[i]] for i in range(df_w_l.shape[0])]\n",
    "df_w_l['happy_dist'] = euclidean_distances(coord, [[0, 0]])"
   ]
  },
  {
   "cell_type": "code",
   "execution_count": null,
   "metadata": {},
   "outputs": [],
   "source": [
    "df_w_l['happy_index'] = (df_w_l['happy_dist'] + df_w_l['polarity'])/2\n",
    "# df_w_l[]"
   ]
  },
  {
   "cell_type": "code",
   "execution_count": null,
   "metadata": {},
   "outputs": [],
   "source": [
    "df_w_l.groupby('year')['polarity'].mean().reset_index().plot('year', 'polarity')"
   ]
  },
  {
   "cell_type": "code",
   "execution_count": null,
   "metadata": {
    "scrolled": true
   },
   "outputs": [],
   "source": [
    "df_w_l.groupby('year')['spotifyID'].count().reset_index(name = 'count').plot('year', 'count')"
   ]
  },
  {
   "cell_type": "code",
   "execution_count": null,
   "metadata": {
    "scrolled": true
   },
   "outputs": [],
   "source": [
    "df_w_l"
   ]
  },
  {
   "cell_type": "code",
   "execution_count": null,
   "metadata": {},
   "outputs": [],
   "source": [
    "df_w_l['rank_weight'] = 101 - df_w_l['rank'] "
   ]
  },
  {
   "cell_type": "code",
   "execution_count": null,
   "metadata": {},
   "outputs": [],
   "source": [
    "wa_group = df_w_l.groupby(\"year\").apply(lambda x: np.average(x['polarity'], weights=x['rank_weight'])).reset_index(name = 'weighted_mean')\n",
    "uw_group = df_w_l.groupby(\"year\")['polarity'].mean().reset_index(name = 'mean')\n",
    "\n",
    "grouped_avgs = pd.merge(wa_group, uw_group, on = 'year', how = 'inner')\n",
    "grouped_avgs['avg_delta'] = grouped_avgs['mean'] - grouped_avgs['weighted_mean']"
   ]
  },
  {
   "cell_type": "code",
   "execution_count": null,
   "metadata": {},
   "outputs": [],
   "source": [
    "grouped_avgs.plot('year', 'avg_delta')"
   ]
  },
  {
   "cell_type": "code",
   "execution_count": null,
   "metadata": {},
   "outputs": [],
   "source": [
    "# grouped_avgs.plot('year', 'weighted_avg')\n",
    "# grouped_avgs.plot('year', 'mean')\n",
    "\n",
    "plt.plot(grouped_avgs['year'], \n",
    "         grouped_avgs['mean'], \n",
    "         label = 'mean')\n",
    "plt.plot(grouped_avgs['year'], \n",
    "         grouped_avgs['weighted_mean'],\n",
    "         label = 'weighted average')\n",
    "plt.suptitle('Polarity Over per Year', fontsize = 17)\n",
    "plt.title('Weighted and Unweighted Means', fontsize = 11)\n",
    "plt.xlabel('Year')\n",
    "plt.ylabel('Polarity')\n",
    "plt.legend()"
   ]
  },
  {
   "cell_type": "markdown",
   "metadata": {},
   "source": [
    "### Happiest Song"
   ]
  },
  {
   "cell_type": "code",
   "execution_count": null,
   "metadata": {},
   "outputs": [],
   "source": [
    "df_w_l.columns.tolist()"
   ]
  },
  {
   "cell_type": "code",
   "execution_count": null,
   "metadata": {
    "collapsed": true
   },
   "outputs": [],
   "source": [
    "hot_features = ['chartDate',\n",
    "                'title',\n",
    "                'artist',\n",
    "                'peakPos',\n",
    "                'weeks',\n",
    "                'change',\n",
    "                'spotifyID',\n",
    "                'polarity',\n",
    "                'valence',\n",
    "                'danceability',\n",
    "                'energy',\n",
    "                'loudness',\n",
    "                'speechiness',\n",
    "                'acousticness',\n",
    "                'instrumentalness',\n",
    "                'liveness',\n",
    "                'maj_minor',\n",
    "                'tempo',\n",
    "                'subjectivity']"
   ]
  },
  {
   "cell_type": "code",
   "execution_count": null,
   "metadata": {},
   "outputs": [],
   "source": [
    "df_w_l.sort_values('polarity', ascending = False).head(50).drop_duplicates(subset = ['title', 'artist', 'peakPos']).head(5)[hot_features]"
   ]
  },
  {
   "cell_type": "code",
   "execution_count": null,
   "metadata": {},
   "outputs": [],
   "source": [
    "df_w_l.sort_values('valence', ascending = False).head(50).drop_duplicates(subset = ['title', 'artist', 'peakPos']).head(5)[hot_features]"
   ]
  },
  {
   "cell_type": "code",
   "execution_count": null,
   "metadata": {},
   "outputs": [],
   "source": [
    "key_order = df_w_l.groupby('key_mode')['polarity'].mean().reset_index(name = 'mean').sort_values('mean', ascending = False)['key_mode'].tolist()\n",
    "\n",
    "sns.barplot(data = df_w_l, \n",
    "            x = 'key_mode', \n",
    "            y = 'polarity', \n",
    "            order = key_order, hue=\"maj_minor\", dodge = False)\n",
    "plt.xticks(rotation=40, ha = 'right')\n",
    "plt.xlabel('Key')\n",
    "plt.ylabel('Polarity')\n",
    "plt.show()"
   ]
  },
  {
   "cell_type": "code",
   "execution_count": null,
   "metadata": {},
   "outputs": [],
   "source": [
    "key_year_group = df_w_l.groupby([(df_w_l.chartDate.dt.year//10)*10, 'key_mode'])[['polarity']]\\\n",
    "    .count()\\\n",
    "    .reset_index()\\\n",
    "    .rename(index=str, columns={\"chartDate\": \"Decade\", \"key_mode\": \"Key\", \"polarity\": \"Count\"})\n",
    "\n",
    "key_year_group = key_year_group[key_year_group['Decade'] != 1950]\n",
    "key_year_group.head()"
   ]
  },
  {
   "cell_type": "code",
   "execution_count": null,
   "metadata": {},
   "outputs": [],
   "source": [
    "key_year_group.Key.unique()"
   ]
  },
  {
   "cell_type": "code",
   "execution_count": null,
   "metadata": {},
   "outputs": [],
   "source": [
    "g = sns.FacetGrid(key_year_group, col=\"Key\", col_wrap=6) # , size=1.5\n",
    "g = g.map(plt.plot, \"Decade\", \"Count\", marker=\".\")"
   ]
  },
  {
   "cell_type": "code",
   "execution_count": null,
   "metadata": {},
   "outputs": [],
   "source": [
    "df_w_l[df_w_l['polarity'] < 0]"
   ]
  },
  {
   "cell_type": "code",
   "execution_count": null,
   "metadata": {},
   "outputs": [],
   "source": []
  },
  {
   "cell_type": "code",
   "execution_count": null,
   "metadata": {
    "collapsed": true
   },
   "outputs": [],
   "source": []
  }
 ],
 "metadata": {
  "kernelspec": {
   "display_name": "Python 3",
   "language": "python",
   "name": "python3"
  },
  "language_info": {
   "codemirror_mode": {
    "name": "ipython",
    "version": 3
   },
   "file_extension": ".py",
   "mimetype": "text/x-python",
   "name": "python",
   "nbconvert_exporter": "python",
   "pygments_lexer": "ipython3",
   "version": "3.6.3"
  }
 },
 "nbformat": 4,
 "nbformat_minor": 2
}
