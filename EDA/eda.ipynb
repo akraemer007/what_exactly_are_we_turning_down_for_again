{
 "cells": [
  {
   "cell_type": "code",
   "execution_count": 52,
   "metadata": {
    "collapsed": true
   },
   "outputs": [],
   "source": [
    "import pandas as pd\n",
    "import numpy as np\n",
    "import matplotlib.pyplot as plt\n",
    "from jupyterthemes import jtplot\n",
    "import seaborn as sns\n",
    "\n",
    "%matplotlib inline\n"
   ]
  },
  {
   "cell_type": "code",
   "execution_count": 3,
   "metadata": {
    "collapsed": true
   },
   "outputs": [],
   "source": [
    "jtplot.style(theme='monokai')"
   ]
  },
  {
   "cell_type": "markdown",
   "metadata": {},
   "source": [
    "# Import data\n",
    "Remember! I'm only using the working lyrics on day one as I am still importing lyric data"
   ]
  },
  {
   "cell_type": "code",
   "execution_count": 4,
   "metadata": {},
   "outputs": [
    {
     "name": "stderr",
     "output_type": "stream",
     "text": [
      "/Users/AndrewKraemer/anaconda3/lib/python3.6/site-packages/IPython/core/interactiveshell.py:2698: DtypeWarning: Columns (18,19,20,21,22,23,24,25,26,27,28,29) have mixed types. Specify dtype option on import or set low_memory=False.\n",
      "  interactivity=interactivity, compiler=compiler, result=result)\n"
     ]
    }
   ],
   "source": [
    "chart_df = pd.read_csv('../data/all_charts.csv')\n",
    "lyrics_df = pd.read_csv('../data/working_lyrics.csv')\n",
    "spotify_df = pd.read_csv('../data/spotify_data.csv')"
   ]
  },
  {
   "cell_type": "code",
   "execution_count": 6,
   "metadata": {},
   "outputs": [
    {
     "data": {
      "text/html": [
       "<div>\n",
       "<style>\n",
       "    .dataframe thead tr:only-child th {\n",
       "        text-align: right;\n",
       "    }\n",
       "\n",
       "    .dataframe thead th {\n",
       "        text-align: left;\n",
       "    }\n",
       "\n",
       "    .dataframe tbody tr th {\n",
       "        vertical-align: top;\n",
       "    }\n",
       "</style>\n",
       "<table border=\"1\" class=\"dataframe\">\n",
       "  <thead>\n",
       "    <tr style=\"text-align: right;\">\n",
       "      <th></th>\n",
       "      <th>Unnamed: 0</th>\n",
       "      <th>chartDate</th>\n",
       "      <th>title</th>\n",
       "      <th>artist</th>\n",
       "      <th>peakPos</th>\n",
       "      <th>lastPos</th>\n",
       "      <th>weeks</th>\n",
       "      <th>rank</th>\n",
       "      <th>change</th>\n",
       "      <th>spotifyID</th>\n",
       "      <th>...</th>\n",
       "      <th>art_6</th>\n",
       "      <th>art_7</th>\n",
       "      <th>art_8</th>\n",
       "      <th>art_9</th>\n",
       "      <th>art_10</th>\n",
       "      <th>art_11</th>\n",
       "      <th>art_12</th>\n",
       "      <th>art_13</th>\n",
       "      <th>art_14</th>\n",
       "      <th>art_15</th>\n",
       "    </tr>\n",
       "  </thead>\n",
       "  <tbody>\n",
       "    <tr>\n",
       "      <th>0</th>\n",
       "      <td>0</td>\n",
       "      <td>1958-08-16</td>\n",
       "      <td>Poor Little Fool</td>\n",
       "      <td>Ricky Nelson</td>\n",
       "      <td>1</td>\n",
       "      <td>1</td>\n",
       "      <td>11</td>\n",
       "      <td>1</td>\n",
       "      <td>0</td>\n",
       "      <td>33FPsMEl3UwpytDuyf9VYq</td>\n",
       "      <td>...</td>\n",
       "      <td>NaN</td>\n",
       "      <td>NaN</td>\n",
       "      <td>NaN</td>\n",
       "      <td>NaN</td>\n",
       "      <td>NaN</td>\n",
       "      <td>NaN</td>\n",
       "      <td>NaN</td>\n",
       "      <td>NaN</td>\n",
       "      <td>NaN</td>\n",
       "      <td>NaN</td>\n",
       "    </tr>\n",
       "    <tr>\n",
       "      <th>1</th>\n",
       "      <td>1</td>\n",
       "      <td>1958-08-16</td>\n",
       "      <td>Nel Blu Dipinto Di Blu (VolarÃÂ©)</td>\n",
       "      <td>Domenico Modugno</td>\n",
       "      <td>1</td>\n",
       "      <td>54</td>\n",
       "      <td>16</td>\n",
       "      <td>2</td>\n",
       "      <td>+52</td>\n",
       "      <td>NaN</td>\n",
       "      <td>...</td>\n",
       "      <td>NaN</td>\n",
       "      <td>NaN</td>\n",
       "      <td>NaN</td>\n",
       "      <td>NaN</td>\n",
       "      <td>NaN</td>\n",
       "      <td>NaN</td>\n",
       "      <td>NaN</td>\n",
       "      <td>NaN</td>\n",
       "      <td>NaN</td>\n",
       "      <td>NaN</td>\n",
       "    </tr>\n",
       "  </tbody>\n",
       "</table>\n",
       "<p>2 rows × 30 columns</p>\n",
       "</div>"
      ],
      "text/plain": [
       "   Unnamed: 0   chartDate                               title  \\\n",
       "0           0  1958-08-16                    Poor Little Fool   \n",
       "1           1  1958-08-16  Nel Blu Dipinto Di Blu (VolarÃÂ©)   \n",
       "\n",
       "             artist  peakPos  lastPos  weeks  rank change  \\\n",
       "0      Ricky Nelson        1        1     11     1      0   \n",
       "1  Domenico Modugno        1       54     16     2    +52   \n",
       "\n",
       "                spotifyID  ...   art_6 art_7 art_8 art_9 art_10 art_11 art_12  \\\n",
       "0  33FPsMEl3UwpytDuyf9VYq  ...     NaN   NaN   NaN   NaN    NaN    NaN    NaN   \n",
       "1                     NaN  ...     NaN   NaN   NaN   NaN    NaN    NaN    NaN   \n",
       "\n",
       "  art_13 art_14 art_15  \n",
       "0    NaN    NaN    NaN  \n",
       "1    NaN    NaN    NaN  \n",
       "\n",
       "[2 rows x 30 columns]"
      ]
     },
     "execution_count": 6,
     "metadata": {},
     "output_type": "execute_result"
    }
   ],
   "source": [
    "chart_df.head(2)"
   ]
  },
  {
   "cell_type": "code",
   "execution_count": 7,
   "metadata": {},
   "outputs": [
    {
     "data": {
      "text/html": [
       "<div>\n",
       "<style>\n",
       "    .dataframe thead tr:only-child th {\n",
       "        text-align: right;\n",
       "    }\n",
       "\n",
       "    .dataframe thead th {\n",
       "        text-align: left;\n",
       "    }\n",
       "\n",
       "    .dataframe tbody tr th {\n",
       "        vertical-align: top;\n",
       "    }\n",
       "</style>\n",
       "<table border=\"1\" class=\"dataframe\">\n",
       "  <thead>\n",
       "    <tr style=\"text-align: right;\">\n",
       "      <th></th>\n",
       "      <th>Song</th>\n",
       "      <th>Artist</th>\n",
       "      <th>spotifyID</th>\n",
       "      <th>Lyrics</th>\n",
       "      <th>Source</th>\n",
       "    </tr>\n",
       "  </thead>\n",
       "  <tbody>\n",
       "    <tr>\n",
       "      <th>0</th>\n",
       "      <td>poor little fool</td>\n",
       "      <td>ricky nelson</td>\n",
       "      <td>33FPsMEl3UwpytDuyf9VYq</td>\n",
       "      <td>i used to play around with hearts that hastene...</td>\n",
       "      <td>1.0</td>\n",
       "    </tr>\n",
       "    <tr>\n",
       "      <th>1</th>\n",
       "      <td>nel blu dipinto di blu volar~a^a</td>\n",
       "      <td>domenico modugno</td>\n",
       "      <td>NaN</td>\n",
       "      <td>not set yet</td>\n",
       "      <td>NaN</td>\n",
       "    </tr>\n",
       "  </tbody>\n",
       "</table>\n",
       "</div>"
      ],
      "text/plain": [
       "                               Song            Artist               spotifyID  \\\n",
       "0                  poor little fool      ricky nelson  33FPsMEl3UwpytDuyf9VYq   \n",
       "1  nel blu dipinto di blu volar~a^a  domenico modugno                     NaN   \n",
       "\n",
       "                                              Lyrics  Source  \n",
       "0  i used to play around with hearts that hastene...     1.0  \n",
       "1                                        not set yet     NaN  "
      ]
     },
     "execution_count": 7,
     "metadata": {},
     "output_type": "execute_result"
    }
   ],
   "source": [
    "lyrics_df.head(2)"
   ]
  },
  {
   "cell_type": "code",
   "execution_count": 8,
   "metadata": {},
   "outputs": [
    {
     "data": {
      "text/html": [
       "<div>\n",
       "<style>\n",
       "    .dataframe thead tr:only-child th {\n",
       "        text-align: right;\n",
       "    }\n",
       "\n",
       "    .dataframe thead th {\n",
       "        text-align: left;\n",
       "    }\n",
       "\n",
       "    .dataframe tbody tr th {\n",
       "        vertical-align: top;\n",
       "    }\n",
       "</style>\n",
       "<table border=\"1\" class=\"dataframe\">\n",
       "  <thead>\n",
       "    <tr style=\"text-align: right;\">\n",
       "      <th></th>\n",
       "      <th>danceability</th>\n",
       "      <th>energy</th>\n",
       "      <th>key</th>\n",
       "      <th>loudness</th>\n",
       "      <th>mode</th>\n",
       "      <th>speechiness</th>\n",
       "      <th>acousticness</th>\n",
       "      <th>instrumentalness</th>\n",
       "      <th>liveness</th>\n",
       "      <th>valence</th>\n",
       "      <th>tempo</th>\n",
       "      <th>track_uri</th>\n",
       "      <th>duration_ms</th>\n",
       "      <th>time_signature</th>\n",
       "      <th>key_mode</th>\n",
       "    </tr>\n",
       "  </thead>\n",
       "  <tbody>\n",
       "    <tr>\n",
       "      <th>0</th>\n",
       "      <td>0.549</td>\n",
       "      <td>0.336</td>\n",
       "      <td>C</td>\n",
       "      <td>-11.669</td>\n",
       "      <td>major</td>\n",
       "      <td>0.0290</td>\n",
       "      <td>0.6520</td>\n",
       "      <td>0.000</td>\n",
       "      <td>0.134</td>\n",
       "      <td>0.802</td>\n",
       "      <td>154.958</td>\n",
       "      <td>33FPsMEl3UwpytDuyf9VYq</td>\n",
       "      <td>153933.0</td>\n",
       "      <td>4</td>\n",
       "      <td>C major</td>\n",
       "    </tr>\n",
       "    <tr>\n",
       "      <th>1</th>\n",
       "      <td>0.696</td>\n",
       "      <td>0.743</td>\n",
       "      <td>C#</td>\n",
       "      <td>-6.623</td>\n",
       "      <td>major</td>\n",
       "      <td>0.0439</td>\n",
       "      <td>0.0836</td>\n",
       "      <td>0.197</td>\n",
       "      <td>0.119</td>\n",
       "      <td>0.776</td>\n",
       "      <td>137.276</td>\n",
       "      <td>0nG4SbrAONIFLIwQqegooj</td>\n",
       "      <td>138747.0</td>\n",
       "      <td>4</td>\n",
       "      <td>C# major</td>\n",
       "    </tr>\n",
       "  </tbody>\n",
       "</table>\n",
       "</div>"
      ],
      "text/plain": [
       "   danceability  energy key  loudness   mode  speechiness  acousticness  \\\n",
       "0         0.549   0.336   C   -11.669  major       0.0290        0.6520   \n",
       "1         0.696   0.743  C#    -6.623  major       0.0439        0.0836   \n",
       "\n",
       "   instrumentalness  liveness  valence    tempo               track_uri  \\\n",
       "0             0.000     0.134    0.802  154.958  33FPsMEl3UwpytDuyf9VYq   \n",
       "1             0.197     0.119    0.776  137.276  0nG4SbrAONIFLIwQqegooj   \n",
       "\n",
       "   duration_ms  time_signature  key_mode  \n",
       "0     153933.0               4   C major  \n",
       "1     138747.0               4  C# major  "
      ]
     },
     "execution_count": 8,
     "metadata": {},
     "output_type": "execute_result"
    }
   ],
   "source": [
    "spotify_df.head(2)"
   ]
  },
  {
   "cell_type": "code",
   "execution_count": 22,
   "metadata": {
    "collapsed": true
   },
   "outputs": [],
   "source": [
    "# keep relevant columns\n",
    "# chart_data.columns.tolist()\n",
    "\n",
    "chart_cols = ['chartDate', 'title', 'artist', 'peakPos', 'lastPos', 'weeks', 'rank', 'change','spotifyID']\n",
    "chart_data = chart_df[chart_cols]"
   ]
  },
  {
   "cell_type": "code",
   "execution_count": 33,
   "metadata": {
    "collapsed": true
   },
   "outputs": [],
   "source": [
    "# combine chart_data with spotify data\n",
    "df = pd.merge(chart_data, spotify_df, left_on='spotifyID', right_on = 'track_uri', how='inner')"
   ]
  },
  {
   "cell_type": "code",
   "execution_count": 38,
   "metadata": {},
   "outputs": [],
   "source": [
    "# convert to datetime\n",
    "df['chartDate'] = pd.to_datetime(df[('chartDate')])"
   ]
  },
  {
   "cell_type": "code",
   "execution_count": 46,
   "metadata": {},
   "outputs": [],
   "source": [
    "df['year'] = df['chartDate'].dt.year"
   ]
  },
  {
   "cell_type": "markdown",
   "metadata": {},
   "source": [
    "Check matchups"
   ]
  },
  {
   "cell_type": "code",
   "execution_count": 16,
   "metadata": {},
   "outputs": [
    {
     "name": "stdout",
     "output_type": "stream",
     "text": [
      "chart_songs: 304643 \n",
      "spotify_songs: 258830 \n",
      "percent_overlap: 84.96%\n"
     ]
    }
   ],
   "source": [
    "chart_len = chart_df.shape[0]\n",
    "spot_len = df.shape[0]\n",
    "print('chart_songs: ' + str(chart_len), \n",
    "     '\\nspotify_songs: ' + str(spot_len),\n",
    "     '\\npercent_overlap: ' + str(round((spot_len / chart_len)*100, 2)) + '%')"
   ]
  },
  {
   "cell_type": "code",
   "execution_count": 64,
   "metadata": {},
   "outputs": [
    {
     "data": {
      "text/plain": [
       "<function matplotlib.pyplot.show>"
      ]
     },
     "execution_count": 64,
     "metadata": {},
     "output_type": "execute_result"
    },
    {
     "data": {
      "image/png": "[encoded data removed]",
      "text/plain": [
       "<matplotlib.figure.Figure at 0x1a11e4bef0>"
      ]
     },
     "metadata": {},
     "output_type": "display_data"
    }
   ],
   "source": [
    "by_year_df = df.groupby('year')['valence','liveness'].mean().reset_index()\n",
    "\n",
    "# sns.barplot(x = 'year', y = 'valence', data = df)\n",
    "\n",
    "# by_year_df\n",
    "\n",
    "plt.plot(by_year_df['year'], by_year_df['valence'])\n",
    "\n",
    "plt.suptitle('Song Happiness Overtime', fontsize = 17)\n",
    "plt.title('Using Spotify Valence', fontsize = 11)\n",
    "plt.xlabel('Year')\n",
    "plt.ylabel('Happiness')\n",
    "plt.ylim(0, 1)\n",
    "plt.show"
   ]
  },
  {
   "cell_type": "code",
   "execution_count": null,
   "metadata": {
    "collapsed": true
   },
   "outputs": [],
   "source": []
  }
 ],
 "metadata": {
  "kernelspec": {
   "display_name": "Python 3",
   "language": "python",
   "name": "python3"
  },
  "language_info": {
   "codemirror_mode": {
    "name": "ipython",
    "version": 3
   },
   "file_extension": ".py",
   "mimetype": "text/x-python",
   "name": "python",
   "nbconvert_exporter": "python",
   "pygments_lexer": "ipython3",
   "version": "3.6.3"
  }
 },
 "nbformat": 4,
 "nbformat_minor": 2
}
